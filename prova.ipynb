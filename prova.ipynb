{
 "cells": [
  {
   "cell_type": "markdown",
   "metadata": {},
   "source": [
    "Le assunzioni che faccio è che la prima stringa sia fatta dalla generale\n",
    "la seconda stringa indica come si calcola il primo elemento e la terza indica come si calcola il secondo elemento e cosi via e poi se gli elementi coinvolti sono coinvolti nel primo allora si fa quello. la cosa deve essere ricorsiva. Quindi parsata la stringa devo andare a controllare la stringa dopo e cosi via. Possiamo fare una logica ricorsiva"
   ]
  },
  {
   "cell_type": "code",
   "execution_count": 8,
   "metadata": {},
   "outputs": [
    {
     "data": {
      "text/plain": [
       "[('A', 'mean'),\n",
       " ('S', '/'),\n",
       " ('R', 'consumption_sum'),\n",
       " ('T', 'm'),\n",
       " ('R', 'time_sum'),\n",
       " ('T', 'm')]"
      ]
     },
     "execution_count": 8,
     "metadata": {},
     "output_type": "execute_result"
    }
   ],
   "source": [
    "#proviamo il parsing delle stringhe\n",
    "import re\n",
    "from collections import defaultdict\n",
    "stringa=\"A°mean°mo[ S°/[ R°consumption_sum°T°m°o° ; R°time_sum°T°m°o° ]]\"\n",
    "stringa1=\"S°+[ R°time_sum°T°M°idle° ; R°time_sum°T°M°offline° ]\"\n",
    "stringa3=\"A°sum°mo[ A°sum°t[ D°consumption_sum°t°m°o° ] ]\"\n",
    "\n",
    "#ho bisogno di isolare i nomi dei kpi le operazioni, tempo e machine li abbiamo dal RAG\n",
    "#ho bidogno di altre cose da fare tipo andare a identificare le lettere tipo A e B\n",
    "\n",
    "#trovare la logica migliore per il parsing di queste 3 stringhe\n",
    "#pattern = r\"([A-Z])°([\\w]+)°([\\w]+)\\[|\\[|\\]|;|([A-Z])°([\\w]+)°([\\w]+)\"\n",
    "\n",
    "#patter per dividere tutto ciò che trova nella stringa, ma come si fa a dare significato ad ogni punto?\n",
    "#token_pattern = r\"[A-Z]+|[a-zA-Z0-9_]+|[\\[\\]/;+\\-*/=]\"\n",
    "\n",
    "#questo cerco di dividere solo quello dentro le parentesi quadre funziona?? può essere utile\n",
    "pattern = r\"([A-Z])°([a-zA-Z0-9__+\\-*/=]+)\"\n",
    "\n",
    "#posso fare questa assunzione? sono mappate uno a uno con le macchine\n",
    "pattern_oper = r\"T°M°([a-zA-Z0-9_]+)\"\n",
    "\n",
    "#altro possibile pattern\n",
    "pattern_pp = r\"([a-zA-Z0-9_]+)°([a-zA-Z0-9_]+)(?:°([a-zA-Z0-9_]+))?\"\n",
    "\n",
    "#find all ritorna una lista che poi è da parsare\n",
    "a=set(re.findall(r\"\\b[A-Za-z][A-Za-z0-9]*\\b\", stringa))\n",
    "\n",
    "#posso affrontare il problema in diversi modi\n",
    "b=re.findall(pattern, stringa)\n",
    "#faccio il parsing delle stringhe e vediamo\n",
    "\n",
    "'''\n",
    "dizionario=defaultdict(list)\n",
    "\n",
    "for key, value in b:\n",
    "    dizionario[key].append(value)\n",
    "\n",
    "print(dict(dizionario))\n",
    "'''\n",
    "b"
   ]
  },
  {
   "cell_type": "markdown",
   "metadata": {},
   "source": [
    "Abbiamo ottenuto una lista per ogni lettera e delle variabili e les tringhe sono parsate. Adesso devo stabilire una logica"
   ]
  },
  {
   "cell_type": "code",
   "execution_count": null,
   "metadata": {},
   "outputs": [
    {
     "name": "stdout",
     "output_type": "stream",
     "text": [
      "[('A', 'mean', 'mo'), ('S', '/'), ('R', 'consumption_sum', 'T', 'm', 'o'), ('R', 'time_sum', 'T', 'm', 'o')]\n"
     ]
    }
   ],
   "source": [
    "import re\n",
    "from collections import defaultdict\n",
    "from datetime import datetime\n",
    "\n",
    "#Mi arrivano queste tre stringhe\n",
    "stringa=\"A°mean°mo[ S°/[ R°consumption_sum°T°m°o° ; R°time_sum°T°m°o° ]]\"\n",
    "stringa1=\"S°+[ R°time_sum°T°M°idle° ; R°time_sum°T°M°offline° ]\"\n",
    "stringa3=\"A°sum°mo[ A°sum°t[ D°consumption_sum°t°m°o° ] ]\"\n",
    "\n",
    "# a me arriva questo che è la formula\n",
    "formule=[\"A°mean°mo[ S°/[ R°consumption_sum°T°m°o° ; R°time_sum°T°m°o° ]]\",\n",
    "         \"A°sum°mo[ A°sum°t[ D°consumption_sum°t°m°o° ] ]\",\n",
    "         \"S°+[ R°time_sum°T°M°idle° ; R°time_sum°T°M°offline° ]\"]\n",
    "\n",
    "#io ho già informazioni del tipo\n",
    "\n",
    "step=7\n",
    "macchine=['ma','mb']\n",
    "operazioni=['idle','offline']\n",
    "start_date=datetime(2023, 1, 1),\n",
    "end_date=datetime(2023, 12, 31),\n",
    "aggregazione='mean'\n",
    "\n",
    "############################\n",
    "\n",
    "#Logica di parsing delle stringhe\n",
    "pattern1 = r\"([a-zA-Z0-9_/\\+\\-\\*\\=]+(?:°[a-zA-Z0-9_/\\+\\-\\*\\=]+)*)\"\n",
    "# Troviamo tutti i match principali\n",
    "matches = re.findall(pattern1, stringa)\n",
    "# Dividiamo ogni match in tuple\n",
    "parsed_results = [tuple(item.split(\"°\")) for item in matches]\n",
    "# Risultato finale\n",
    "print(parsed_results)"
   ]
  }
 ],
 "metadata": {
  "kernelspec": {
   "display_name": "Python 3",
   "language": "python",
   "name": "python3"
  },
  "language_info": {
   "codemirror_mode": {
    "name": "ipython",
    "version": 3
   },
   "file_extension": ".py",
   "mimetype": "text/x-python",
   "name": "python",
   "nbconvert_exporter": "python",
   "pygments_lexer": "ipython3",
   "version": "3.11.1"
  }
 },
 "nbformat": 4,
 "nbformat_minor": 2
}
