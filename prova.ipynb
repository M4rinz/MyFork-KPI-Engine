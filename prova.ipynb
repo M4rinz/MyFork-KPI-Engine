{
 "cells": [
  {
   "cell_type": "markdown",
   "metadata": {},
   "source": [
    "Le assunzioni che faccio è che la prima stringa sia fatta dalla generale\n",
    "la seconda stringa indica come si calcola il primo elemento e la terza indica come si calcola il secondo elemento e cosi via e poi se gli elementi coinvolti sono coinvolti nel primo allora si fa quello. la cosa deve essere ricorsiva. Quindi parsata la stringa devo andare a controllare la stringa dopo e cosi via. Possiamo fare una logica ricorsiva"
   ]
  },
  {
   "cell_type": "code",
   "execution_count": 8,
   "metadata": {},
   "outputs": [
    {
     "data": {
      "text/plain": [
       "[('A', 'mean'),\n",
       " ('S', '/'),\n",
       " ('R', 'consumption_sum'),\n",
       " ('T', 'm'),\n",
       " ('R', 'time_sum'),\n",
       " ('T', 'm')]"
      ]
     },
     "execution_count": 8,
     "metadata": {},
     "output_type": "execute_result"
    }
   ],
   "source": [
    "#proviamo il parsing delle stringhe\n",
    "import re\n",
    "from collections import defaultdict\n",
    "stringa=\"A°mean°mo[ S°/[ R°consumption_sum°T°m°o° ; R°time_sum°T°m°o° ]]\"\n",
    "stringa1=\"S°+[ R°time_sum°T°M°idle° ; R°time_sum°T°M°offline° ]\"\n",
    "stringa3=\"A°sum°mo[ A°sum°t[ D°consumption_sum°t°m°o° ] ]\"\n",
    "\n",
    "#ho bisogno di isolare i nomi dei kpi le operazioni, tempo e machine li abbiamo dal RAG\n",
    "#ho bidogno di altre cose da fare tipo andare a identificare le lettere tipo A e B\n",
    "\n",
    "#trovare la logica migliore per il parsing di queste 3 stringhe\n",
    "#pattern = r\"([A-Z])°([\\w]+)°([\\w]+)\\[|\\[|\\]|;|([A-Z])°([\\w]+)°([\\w]+)\"\n",
    "\n",
    "#patter per dividere tutto ciò che trova nella stringa, ma come si fa a dare significato ad ogni punto?\n",
    "#token_pattern = r\"[A-Z]+|[a-zA-Z0-9_]+|[\\[\\]/;+\\-*/=]\"\n",
    "\n",
    "#questo cerco di dividere solo quello dentro le parentesi quadre funziona?? può essere utile\n",
    "pattern = r\"([A-Z])°([a-zA-Z0-9__+\\-*/=]+)\"\n",
    "\n",
    "#posso fare questa assunzione? sono mappate uno a uno con le macchine\n",
    "pattern_oper = r\"T°M°([a-zA-Z0-9_]+)\"\n",
    "\n",
    "#altro possibile pattern\n",
    "pattern_pp = r\"([a-zA-Z0-9_]+)°([a-zA-Z0-9_]+)(?:°([a-zA-Z0-9_]+))?\"\n",
    "\n",
    "#find all ritorna una lista che poi è da parsare\n",
    "a=set(re.findall(r\"\\b[A-Za-z][A-Za-z0-9]*\\b\", stringa))\n",
    "\n",
    "#posso affrontare il problema in diversi modi\n",
    "b=re.findall(pattern, stringa)\n",
    "#faccio il parsing delle stringhe e vediamo\n",
    "\n",
    "'''\n",
    "dizionario=defaultdict(list)\n",
    "\n",
    "for key, value in b:\n",
    "    dizionario[key].append(value)\n",
    "\n",
    "print(dict(dizionario))\n",
    "'''\n",
    "b"
   ]
  },
  {
   "cell_type": "markdown",
   "metadata": {},
   "source": [
    "Abbiamo ottenuto una lista per ogni lettera e delle variabili e les tringhe sono parsate. Adesso devo stabilire una logica"
   ]
  },
  {
   "cell_type": "code",
   "execution_count": null,
   "metadata": {},
   "outputs": [
    {
     "name": "stdout",
     "output_type": "stream",
     "text": [
      "[('A', 'mean', 'mo'), ('S', '/'), ('R', 'consumption_sum', 'T', 'm', 'o'), ('R', 'time_sum', 'T', 'm', 'o')]\n"
     ]
    }
   ],
   "source": [
    "import re\n",
    "from collections import defaultdict\n",
    "from datetime import datetime\n",
    "\n",
    "#Mi arrivano queste tre stringhe\n",
    "stringa=\"A°mean°mo[ S°/[ R°consumption_sum°T°m°o° ; R°time_sum°T°m°o° ]]\"\n",
    "stringa1=\"S°+[ R°time_sum°T°M°idle° ; R°time_sum°T°M°offline° ]\"\n",
    "stringa3=\"A°sum°mo[ A°sum°t[ D°consumption_sum°t°m°o° ] ]\"\n",
    "\n",
    "# a me arriva questo che è la formula\n",
    "formule=[\"A°mean°mo[ S°/[ R°consumption_sum°T°m°o° ; R°time_sum°T°m°o° ]]\",\n",
    "         \"A°sum°mo[ A°sum°t[ D°consumption_sum°t°m°o° ] ]\",\n",
    "         \"S°+[ R°time_sum°T°M°idle° ; R°time_sum°T°M°offline° ]\"]\n",
    "\n",
    "#io ho già informazioni del tipo\n",
    "\n",
    "step=7\n",
    "macchine=['ma','mb']\n",
    "operazioni=['idle','offline']\n",
    "start_date=datetime(2023, 1, 1),\n",
    "end_date=datetime(2023, 12, 31),\n",
    "aggregazione='mean'\n",
    "\n",
    "############################\n",
    "\n",
    "#Logica di parsing delle stringhe\n",
    "pattern1 = r\"([a-zA-Z0-9_/\\+\\-\\*\\=]+(?:°[a-zA-Z0-9_/\\+\\-\\*\\=]+)*)\"\n",
    "# Troviamo tutti i match principali\n",
    "matches = re.findall(pattern1, stringa)\n",
    "# Dividiamo ogni match in tuple\n",
    "parsed_results = [tuple(item.split(\"°\")) for item in matches]\n",
    "# Risultato finale\n",
    "print(parsed_results)"
   ]
  },
  {
   "cell_type": "code",
   "execution_count": 2,
   "metadata": {},
   "outputs": [
    {
     "data": {
      "text/html": [
       "<div>\n",
       "<style scoped>\n",
       "    .dataframe tbody tr th:only-of-type {\n",
       "        vertical-align: middle;\n",
       "    }\n",
       "\n",
       "    .dataframe tbody tr th {\n",
       "        vertical-align: top;\n",
       "    }\n",
       "\n",
       "    .dataframe thead tr th {\n",
       "        text-align: left;\n",
       "    }\n",
       "</style>\n",
       "<table border=\"1\" class=\"dataframe\">\n",
       "  <thead>\n",
       "    <tr>\n",
       "      <th>macchina</th>\n",
       "      <th>Date</th>\n",
       "      <th>A</th>\n",
       "      <th>B</th>\n",
       "    </tr>\n",
       "    <tr>\n",
       "      <th>Operazione</th>\n",
       "      <th></th>\n",
       "      <th>idle</th>\n",
       "      <th>working</th>\n",
       "    </tr>\n",
       "  </thead>\n",
       "  <tbody>\n",
       "    <tr>\n",
       "      <th>0</th>\n",
       "      <td>2023-10-10</td>\n",
       "      <td>30.0</td>\n",
       "      <td>NaN</td>\n",
       "    </tr>\n",
       "    <tr>\n",
       "      <th>1</th>\n",
       "      <td>2023-10-11</td>\n",
       "      <td>NaN</td>\n",
       "      <td>20.0</td>\n",
       "    </tr>\n",
       "    <tr>\n",
       "      <th>2</th>\n",
       "      <td>2023-10-12</td>\n",
       "      <td>10.0</td>\n",
       "      <td>NaN</td>\n",
       "    </tr>\n",
       "  </tbody>\n",
       "</table>\n",
       "</div>"
      ],
      "text/plain": [
       "macchina         Date     A       B\n",
       "Operazione             idle working\n",
       "0          2023-10-10  30.0     NaN\n",
       "1          2023-10-11   NaN    20.0\n",
       "2          2023-10-12  10.0     NaN"
      ]
     },
     "execution_count": 2,
     "metadata": {},
     "output_type": "execute_result"
    }
   ],
   "source": [
    "import pandas as pd\n",
    "import numpy as np\n",
    "from datetime import datetime\n",
    "a=pd.DataFrame(data = [\n",
    "    {\"KPI\": \"consumption_sum\", \"Operazione\": 'idle', \"macchina\": 'A', \"Date\": datetime(2023,10,10),'vale':30},\n",
    "    {\"KPI\": \"consumption_sum\", \"Operazione\": 'working', \"macchina\": 'B', \"Date\": datetime(2023,10,11),'vale':20},\n",
    "    {\"KPI\": \"consumption_sum\", \"Operazione\": 'idle', \"macchina\": 'A', \"Date\": datetime(2023,10,12),'vale':10},\n",
    "])\n",
    "\n",
    "\n",
    "a=a.drop(columns=['KPI'])\n",
    "#print(a)\n",
    "pivot_table = a.pivot(\n",
    "            index=\"Date\", columns=[\"macchina\",'Operazione'], values=\"vale\"\n",
    "        ).reset_index()\n",
    "\n",
    "\n",
    "pivot_table\n"
   ]
  },
  {
   "cell_type": "code",
   "execution_count": 44,
   "metadata": {},
   "outputs": [
    {
     "data": {
      "text/html": [
       "<div>\n",
       "<style scoped>\n",
       "    .dataframe tbody tr th:only-of-type {\n",
       "        vertical-align: middle;\n",
       "    }\n",
       "\n",
       "    .dataframe tbody tr th {\n",
       "        vertical-align: top;\n",
       "    }\n",
       "\n",
       "    .dataframe thead th {\n",
       "        text-align: right;\n",
       "    }\n",
       "</style>\n",
       "<table border=\"1\" class=\"dataframe\">\n",
       "  <thead>\n",
       "    <tr style=\"text-align: right;\">\n",
       "      <th>C</th>\n",
       "      <th>A_idle</th>\n",
       "      <th>B_working</th>\n",
       "      <th>C_idle</th>\n",
       "    </tr>\n",
       "  </thead>\n",
       "  <tbody>\n",
       "    <tr>\n",
       "      <th>0</th>\n",
       "      <td>60.0</td>\n",
       "      <td>NaN</td>\n",
       "      <td>NaN</td>\n",
       "    </tr>\n",
       "    <tr>\n",
       "      <th>1</th>\n",
       "      <td>NaN</td>\n",
       "      <td>40.0</td>\n",
       "      <td>NaN</td>\n",
       "    </tr>\n",
       "    <tr>\n",
       "      <th>2</th>\n",
       "      <td>NaN</td>\n",
       "      <td>20.0</td>\n",
       "      <td>20.0</td>\n",
       "    </tr>\n",
       "  </tbody>\n",
       "</table>\n",
       "</div>"
      ],
      "text/plain": [
       "C  A_idle  B_working  C_idle\n",
       "0    60.0        NaN     NaN\n",
       "1     NaN       40.0     NaN\n",
       "2     NaN       20.0    20.0"
      ]
     },
     "execution_count": 44,
     "metadata": {},
     "output_type": "execute_result"
    }
   ],
   "source": [
    "a=pd.DataFrame(data = [\n",
    "    { \"C\": 'A_idle',  \"Date\": datetime(2023,10,10),'max':30},\n",
    "    { \"C\": 'B_working', \"Date\": datetime(2023,10,11),'max':20},\n",
    "    { \"C\": 'C_idle', \"Date\": datetime(2023,10,12),'max':10},\n",
    "    { \"C\": 'B_working', \"Date\": datetime(2023,10,12),'max':10},\n",
    "])\n",
    "\n",
    "pivot_table = a.pivot(\n",
    "            index=\"Date\", columns=['C'], values=\"max\"\n",
    "        ).reset_index().select_dtypes('number')\n",
    "\n",
    "pivot_table2=a.pivot(\n",
    "            index=\"Date\", columns=['C'], values=\"max\"\n",
    "        ).reset_index().select_dtypes('number')\n",
    "\n",
    "#pivot_table\n",
    "\n",
    "c=pivot_table+pivot_table2\n",
    "c"
   ]
  },
  {
   "cell_type": "code",
   "execution_count": 148,
   "metadata": {},
   "outputs": [
    {
     "data": {
      "text/plain": [
       "array([[ 0,  1,  2,  3,  4,  5],\n",
       "       [ 6,  7,  8,  9, 10, 11],\n",
       "       [12, 13, 14, 15, 16, 17],\n",
       "       [18, 19, 20, 21, 22, 23],\n",
       "       [24, 25, 26, 27, 28, 29],\n",
       "       [30, 31, 32, 33, 34, 35],\n",
       "       [36, 37, 38, 39, 40, 41],\n",
       "       [42, 43, 44, 45, 46, 47],\n",
       "       [48, 49, 50, 51, 52, 53],\n",
       "       [54, 55, 56, 57, 58, 59]])"
      ]
     },
     "execution_count": 148,
     "metadata": {},
     "output_type": "execute_result"
    }
   ],
   "source": [
    "\n",
    "\n",
    "a=np.arange(60).reshape(10, 6)\n",
    "\n",
    "a"
   ]
  },
  {
   "cell_type": "code",
   "execution_count": 5,
   "metadata": {},
   "outputs": [
    {
     "name": "stdout",
     "output_type": "stream",
     "text": [
      "[[[ 0  1  2  3  4  5]\n",
      "  [ 6  7  8  9 10 11]\n",
      "  [12 13 14 15 16 17]]\n",
      "\n",
      " [[18 19 20 21 22 23]\n",
      "  [24 25 26 27 28 29]\n",
      "  [30 31 32 33 34 35]]\n",
      "\n",
      " [[36 37 38 39 40 41]\n",
      "  [42 43 44 45 46 47]\n",
      "  [48 49 50 51 52 53]]]\n",
      "-----------------------\n",
      "[[ 18  21  24  27  30  33]\n",
      " [ 72  75  78  81  84  87]\n",
      " [126 129 132 135 138 141]]\n",
      "-----------------------\n",
      "[153 477 801]\n"
     ]
    }
   ],
   "source": [
    "a=np.arange(60).reshape(10, 6)\n",
    "step=3\n",
    "resto=a.shape[0]% step\n",
    "\n",
    "fondo=a[-resto:]\n",
    "a = a[:-resto]\n",
    "#g=a.reshape(resto,step,a.shape[1])\n",
    "groups = a.reshape(a.shape[0] // step, step, a.shape[1])\n",
    "n=[groups,fondo]\n",
    "print(groups)\n",
    "print('-----------------------')\n",
    "n[0]=np.sum(n[0],axis=1)\n",
    "print(n[0])\n",
    "print('-----------------------')\n",
    "\n",
    "n[0]=np.sum(n[0],axis=1)\n",
    "print(n[0])\n",
    "\n"
   ]
  },
  {
   "cell_type": "code",
   "execution_count": null,
   "metadata": {},
   "outputs": [
    {
     "data": {
      "text/plain": [
       "['A', 'mean', 'mo[S', 'time]']"
      ]
     },
     "execution_count": 18,
     "metadata": {},
     "output_type": "execute_result"
    }
   ],
   "source": [
    "s=\"A°mean°mo[S°time]\"\n",
    "a=s.split('°')"
   ]
  },
  {
   "cell_type": "code",
   "execution_count": 26,
   "metadata": {},
   "outputs": [
    {
     "data": {
      "text/plain": [
       "[        date kpi  cut_machine_idle  cut_machine_forward\n",
       " 0 2023-11-10   A         37.454012            17.052412\n",
       " 1 2023-11-11   A         95.071431             6.505159\n",
       " 2 2023-11-12   A         73.199394            94.888554\n",
       " 3 2023-11-13   A         59.865848            96.563203\n",
       " 4 2023-11-14   A         15.601864            80.839735\n",
       " 5 2023-11-15   A         15.599452            30.461377\n",
       " 6 2023-11-16   A          5.808361             9.767211,\n",
       "          date kpi  cut_machine_idle  cut_machine_forward\n",
       " 7  2023-11-17   A         86.617615            68.423303\n",
       " 8  2023-11-18   A         60.111501            44.015249\n",
       " 9  2023-11-19   A         70.807258            12.203823\n",
       " 10 2023-11-20   A          2.058449            49.517691\n",
       " 11 2023-11-21   A         96.990985             3.438852\n",
       " 12 2023-11-22   A         83.244264            90.932040,\n",
       "          date kpi  cut_machine_idle  cut_machine_forward\n",
       " 13 2023-11-23   A         21.233911            25.877998\n",
       " 14 2023-11-24   A         18.182497            66.252228\n",
       " 15 2023-11-25   A         18.340451            31.171108\n",
       " 16 2023-11-26   A         30.424224            52.006802\n",
       " 17 2023-11-27   A         52.475643            54.671028\n",
       " 18 2023-11-28   A         43.194502            18.485446,\n",
       "          date kpi  cut_machine_idle  cut_machine_forward\n",
       " 19 2023-11-29   A         29.122914            96.958463\n",
       " 20 2023-11-30   A         61.185289            77.513282\n",
       " 21 2023-12-01   A         13.949386            93.949894\n",
       " 22 2023-12-02   A         29.214465            89.482735\n",
       " 23 2023-12-03   A         36.636184            59.789998\n",
       " 24 2023-12-04   A         45.606998            92.187424,\n",
       "          date kpi  cut_machine_idle  cut_machine_forward\n",
       " 25 2023-12-05   A         78.517596             8.849250\n",
       " 26 2023-12-06   A         19.967378            19.598286\n",
       " 27 2023-12-07   A         51.423444             4.522729\n",
       " 28 2023-12-08   A         59.241457            32.533033\n",
       " 29 2023-12-09   A          4.645041            38.867729\n",
       " 30 2023-12-10   A         60.754485            27.134903]"
      ]
     },
     "execution_count": 26,
     "metadata": {},
     "output_type": "execute_result"
    }
   ],
   "source": [
    "import pandas as pd\n",
    "import numpy as np\n",
    "\n",
    "date_range = pd.date_range(start=\"2023-11-10\", end=\"2023-12-10\", freq=\"D\")\n",
    "\n",
    "# Generazione di valori casuali per le due colonne\n",
    "np.random.seed(42)  # Per rendere i risultati ripetibili\n",
    "cut_machine_idle = np.random.uniform(0, 100, len(date_range))\n",
    "cut_machine_forward = np.random.uniform(0, 100, len(date_range))\n",
    "\n",
    "# Creazione del DataFrame\n",
    "dataframe = pd.DataFrame({\n",
    "    \"date\": date_range,\n",
    "    'kpi': 'A',\n",
    "    \"cut_machine_idle\": cut_machine_idle,\n",
    "    \"cut_machine_forward\": cut_machine_forward\n",
    "})\n",
    "\n",
    "a=np.array_split(dataframe, 5)\n",
    "a"
   ]
  }
 ],
 "metadata": {
  "kernelspec": {
   "display_name": "Python 3",
   "language": "python",
   "name": "python3"
  },
  "language_info": {
   "codemirror_mode": {
    "name": "ipython",
    "version": 3
   },
   "file_extension": ".py",
   "mimetype": "text/x-python",
   "name": "python",
   "nbconvert_exporter": "python",
   "pygments_lexer": "ipython3",
   "version": "3.11.1"
  }
 },
 "nbformat": 4,
 "nbformat_minor": 2
}
